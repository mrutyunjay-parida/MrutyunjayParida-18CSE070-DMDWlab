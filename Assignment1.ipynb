{
  "nbformat": 4,
  "nbformat_minor": 0,
  "metadata": {
    "colab": {
      "name": "Assignment1.ipynb",
      "provenance": [],
      "collapsed_sections": [],
      "include_colab_link": true
    },
    "kernelspec": {
      "name": "python3",
      "display_name": "Python 3"
    }
  },
  "cells": [
    {
      "cell_type": "markdown",
      "metadata": {
        "id": "view-in-github",
        "colab_type": "text"
      },
      "source": [
        "<a href=\"https://colab.research.google.com/github/mrutyunjay-parida/MrutyunjayParida-18CSE070-DMDWlab/blob/main/Assignment1.ipynb\" target=\"_parent\"><img src=\"https://colab.research.google.com/assets/colab-badge.svg\" alt=\"Open In Colab\"/></a>"
      ]
    },
    {
      "cell_type": "markdown",
      "metadata": {
        "id": "rr-kUImgYq48"
      },
      "source": [
        "## **Q/1. Find out mean,median,mode without using library functions in python**"
      ]
    },
    {
      "cell_type": "code",
      "metadata": {
        "colab": {
          "base_uri": "https://localhost:8080/"
        },
        "id": "WBaipfbiZR-T",
        "outputId": "2b381f0d-cd12-47c2-bd31-bd4f54c6175d"
      },
      "source": [
        "list1=[]\n",
        "n=int(input(\"enter the no of elements\"))\n",
        "for i in range(0,n):\n",
        "  ele=int(input())\n",
        "  list1.append(ele)"
      ],
      "execution_count": 3,
      "outputs": [
        {
          "output_type": "stream",
          "text": [
            "enter the no of elements4\n",
            "1\n",
            "6\n",
            "3\n",
            "5\n"
          ],
          "name": "stdout"
        }
      ]
    },
    {
      "cell_type": "markdown",
      "metadata": {
        "id": "CuKsCuA0a0M1"
      },
      "source": [
        "## Mean"
      ]
    },
    {
      "cell_type": "code",
      "metadata": {
        "colab": {
          "base_uri": "https://localhost:8080/"
        },
        "id": "1JjJzmjbaIgG",
        "outputId": "6d3c5a2e-c334-4b44-918e-c8bb81abfae7"
      },
      "source": [
        "num_sum=sum(list1)\n",
        "mean=num_sum/len(list1)\n",
        "print(list1)\n",
        "print(\"mean of the list:\"+str(round(mean)))"
      ],
      "execution_count": 4,
      "outputs": [
        {
          "output_type": "stream",
          "text": [
            "[1, 6, 3, 5]\n",
            "mean of the list:4\n"
          ],
          "name": "stdout"
        }
      ]
    },
    {
      "cell_type": "markdown",
      "metadata": {
        "id": "Q9NpJHorbmWe"
      },
      "source": [
        "## Median"
      ]
    },
    {
      "cell_type": "code",
      "metadata": {
        "colab": {
          "base_uri": "https://localhost:8080/"
        },
        "id": "aRj8PptJbo2Y",
        "outputId": "ca690878-f4c3-474d-b0b3-d3e0dd3db9cb"
      },
      "source": [
        "list1.sort()\n",
        "if len(list1) %2==0:\n",
        "  first_median=list1[len(list1)//2]\n",
        "  second_median=list1[len(list1)//2 - 1]\n",
        "  median=(first_median+second_median)/2\n",
        "else:\n",
        "  median=list1[len(list1)//2]\n",
        "print(list1)\n",
        "print(\"median of the list\"+str(median))"
      ],
      "execution_count": 5,
      "outputs": [
        {
          "output_type": "stream",
          "text": [
            "[1, 3, 5, 6]\n",
            "median of the list4.0\n"
          ],
          "name": "stdout"
        }
      ]
    },
    {
      "cell_type": "markdown",
      "metadata": {
        "id": "6DQF3GA-dEoW"
      },
      "source": [
        "# Mode"
      ]
    },
    {
      "cell_type": "code",
      "metadata": {
        "colab": {
          "base_uri": "https://localhost:8080/"
        },
        "id": "LWm-bWdGdHWm",
        "outputId": "1bb62fec-7f02-4635-c795-be6d82d53b67"
      },
      "source": [
        "l1=[] \n",
        "    \n",
        "j = 0\n",
        "while j < len(list1) : \n",
        "    l1.append(list1.count(list1[j])) \n",
        "    j += 1\n",
        "  \n",
        "d1 = dict(zip(list1, l1)) \n",
        "  \n",
        "d2={k for (k,v) in d1.items() if v == max(l1) } \n",
        "  \n",
        "print(\"Mode(s) is/are :\" + str(d2))"
      ],
      "execution_count": 6,
      "outputs": [
        {
          "output_type": "stream",
          "text": [
            "Mode(s) is/are :{1, 3, 5, 6}\n"
          ],
          "name": "stdout"
        }
      ]
    },
    {
      "cell_type": "markdown",
      "metadata": {
        "id": "bW05wtE7eI4u"
      },
      "source": [
        "## Find out mean,median mode using lib functions in python"
      ]
    },
    {
      "cell_type": "code",
      "metadata": {
        "colab": {
          "base_uri": "https://localhost:8080/",
          "height": 464
        },
        "id": "ypuOUD0ZePKd",
        "outputId": "c14e582e-1af8-4b2c-fa99-250dcafb3e32"
      },
      "source": [
        "import statistics\n",
        "list1=[]\n",
        "n=int(input(\"Enter number of elements you want in yor list:-\"))\n",
        "for i in range(0,n):\n",
        "  ele=int(input())\n",
        "  list1.append(ele)\n",
        "print(\"Entered values in the list:\", str(list1))\n",
        "\n",
        "#finding out mean\n",
        "\n",
        "print(statistics.mean(list1))\n",
        "\n",
        "#finding out median\n",
        "\n",
        "print(statistics.median(list1))\n",
        "\n",
        "#finding out mode\n",
        "\"\"\"it will show only for unique highest count\"\"\"\n",
        "print(statistics.mode(list1))\n",
        "\n",
        "print(statistics.multimode(list1))"
      ],
      "execution_count": 8,
      "outputs": [
        {
          "output_type": "stream",
          "text": [
            "Enter number of elements you want in yor list:-3\n",
            "243\n",
            "131\n",
            "2342\n",
            "Entered values in the list: [243, 131, 2342]\n",
            "905.3333333333334\n",
            "243\n"
          ],
          "name": "stdout"
        },
        {
          "output_type": "error",
          "ename": "StatisticsError",
          "evalue": "ignored",
          "traceback": [
            "\u001b[0;31m---------------------------------------------------------------------------\u001b[0m",
            "\u001b[0;31mStatisticsError\u001b[0m                           Traceback (most recent call last)",
            "\u001b[0;32m<ipython-input-8-914b0d68f1b9>\u001b[0m in \u001b[0;36m<module>\u001b[0;34m()\u001b[0m\n\u001b[1;32m     17\u001b[0m \u001b[0;31m#finding out mode\u001b[0m\u001b[0;34m\u001b[0m\u001b[0;34m\u001b[0m\u001b[0;34m\u001b[0m\u001b[0m\n\u001b[1;32m     18\u001b[0m \u001b[0;34m\"\"\"it will show only for unique highest count\"\"\"\u001b[0m\u001b[0;34m\u001b[0m\u001b[0;34m\u001b[0m\u001b[0m\n\u001b[0;32m---> 19\u001b[0;31m \u001b[0mprint\u001b[0m\u001b[0;34m(\u001b[0m\u001b[0mstatistics\u001b[0m\u001b[0;34m.\u001b[0m\u001b[0mmode\u001b[0m\u001b[0;34m(\u001b[0m\u001b[0mlist1\u001b[0m\u001b[0;34m)\u001b[0m\u001b[0;34m)\u001b[0m\u001b[0;34m\u001b[0m\u001b[0;34m\u001b[0m\u001b[0m\n\u001b[0m\u001b[1;32m     20\u001b[0m \u001b[0;34m\u001b[0m\u001b[0m\n\u001b[1;32m     21\u001b[0m \u001b[0mprint\u001b[0m\u001b[0;34m(\u001b[0m\u001b[0mstatistics\u001b[0m\u001b[0;34m.\u001b[0m\u001b[0mmultimode\u001b[0m\u001b[0;34m(\u001b[0m\u001b[0mlist1\u001b[0m\u001b[0;34m)\u001b[0m\u001b[0;34m)\u001b[0m\u001b[0;34m\u001b[0m\u001b[0;34m\u001b[0m\u001b[0m\n",
            "\u001b[0;32m/usr/lib/python3.6/statistics.py\u001b[0m in \u001b[0;36mmode\u001b[0;34m(data)\u001b[0m\n\u001b[1;32m    505\u001b[0m     \u001b[0;32melif\u001b[0m \u001b[0mtable\u001b[0m\u001b[0;34m:\u001b[0m\u001b[0;34m\u001b[0m\u001b[0;34m\u001b[0m\u001b[0m\n\u001b[1;32m    506\u001b[0m         raise StatisticsError(\n\u001b[0;32m--> 507\u001b[0;31m                 \u001b[0;34m'no unique mode; found %d equally common values'\u001b[0m \u001b[0;34m%\u001b[0m \u001b[0mlen\u001b[0m\u001b[0;34m(\u001b[0m\u001b[0mtable\u001b[0m\u001b[0;34m)\u001b[0m\u001b[0;34m\u001b[0m\u001b[0;34m\u001b[0m\u001b[0m\n\u001b[0m\u001b[1;32m    508\u001b[0m                 )\n\u001b[1;32m    509\u001b[0m     \u001b[0;32melse\u001b[0m\u001b[0;34m:\u001b[0m\u001b[0;34m\u001b[0m\u001b[0;34m\u001b[0m\u001b[0m\n",
            "\u001b[0;31mStatisticsError\u001b[0m: no unique mode; found 3 equally common values"
          ]
        }
      ]
    },
    {
      "cell_type": "markdown",
      "metadata": {
        "id": "24340ERlfhqd"
      },
      "source": [
        "\n",
        "## Q2.A python code for finding standard deviation and variance without using library functions."
      ]
    },
    {
      "cell_type": "code",
      "metadata": {
        "colab": {
          "base_uri": "https://localhost:8080/"
        },
        "id": "NCQT_cobfxCc",
        "outputId": "808048dd-eb73-456a-c2cd-9ce516abb1b3"
      },
      "source": [
        "\n",
        "list1=[]\n",
        "n=int(input(\"Enter number of elements you want in yor list:-\"))\n",
        "for i in range(0,n):\n",
        "  elmnt=int(input())\n",
        "  list1.append(elmnt)\n",
        "\n",
        "#for finding the variance\n",
        "\n",
        "ddof=0\n",
        "ddof1=1\n",
        "n = len(list1)\n",
        "mean = sum(list1) / n\n",
        "s1=sum((x - mean) ** 2 for x in list1) / (n - ddof)\n",
        "s2=sum((x - mean) ** 2 for x in list1) / (n - ddof1)\n",
        "print(list1)\n",
        "print(\"Variance of the given values:\",s1)\n",
        "print(\"Estimation value for Variance of the given values:\",s2)\n",
        "\n",
        "#for finding the standard deviation\n",
        "\n",
        "var = s1\n",
        "var1 = s2\n",
        "stand_dev = (var)**(1/2)\n",
        "stand_dev1 = (var1)**(1/2)\n",
        "print(\"Standard Deviation of the given values:\",stand_dev)\n",
        "print(\"Estimation value for Standard Deviation of the given values:\",stand_dev1)"
      ],
      "execution_count": null,
      "outputs": [
        {
          "output_type": "stream",
          "text": [
            "Enter number of elements you want in yor list:-6\n",
            "25\n",
            "48\n",
            "76\n",
            "15\n",
            "30\n",
            "8\n",
            "[25, 48, 76, 15, 30, 8]\n",
            "Variance of the given values: 515.5555555555555\n",
            "Estimation value for Variance of the given values: 618.6666666666666\n",
            "Standard Deviation of the given values: 22.705848487901868\n",
            "Estimation value for Standard Deviation of the given values: 24.873010808236838\n"
          ],
          "name": "stdout"
        }
      ]
    },
    {
      "cell_type": "markdown",
      "metadata": {
        "id": "oLPl_FsWgKqr"
      },
      "source": [
        "# Q2.A python code for finding standard deviation and variance with using library functions."
      ]
    },
    {
      "cell_type": "code",
      "metadata": {
        "colab": {
          "base_uri": "https://localhost:8080/"
        },
        "id": "P0OUB-RRgrYt",
        "outputId": "d1df7636-90ed-41fb-b611-189efe334342"
      },
      "source": [
        "import statistics\n",
        "\n",
        "list1=[]\n",
        "n=int(input(\"Enter number of elements you want in yor list:-\"))\n",
        "for i in range(0,n):\n",
        "  elmnt=int(input())\n",
        "  list1.append(elmnt)\n",
        "print(list1)\n",
        "\n",
        "print(\"Variance of the given values:\",statistics.pvariance(list1))\n",
        "\n",
        "print(\"Estimation value for Variance of the given values:\",statistics.variance(list1))\n",
        "\n",
        "print(\"Standard Deviation of the given values:\",statistics.pstdev(list1))\n",
        "\n",
        "print(\"Estimation value for Standard Deviation of the given values:\",statistics.stdev(list1))"
      ],
      "execution_count": null,
      "outputs": [
        {
          "output_type": "stream",
          "text": [
            "Enter number of elements you want in yor list:-6\n",
            "25\n",
            "48\n",
            "76\n",
            "15\n",
            "30\n",
            "8\n",
            "[25, 48, 76, 15, 30, 8]\n",
            "Variance of the given values: 515.5555555555555\n",
            "Estimation value for Variance of the given values: 618.6666666666666\n",
            "Standard Deviation of the given values: 22.705848487901868\n",
            "Estimation value for Standard Deviation of the given values: 24.873010808236838\n"
          ],
          "name": "stdout"
        }
      ]
    },
    {
      "cell_type": "markdown",
      "metadata": {
        "id": "5HNfdQ--hBut"
      },
      "source": [
        "## Q3.Some basic practice problems on python programs with List,Tuple,Dictionary & String, Sets,etc."
      ]
    },
    {
      "cell_type": "code",
      "metadata": {
        "colab": {
          "base_uri": "https://localhost:8080/"
        },
        "id": "mjUD7yPehC60",
        "outputId": "4060f2cf-2e60-4b61-fec6-43caff51b04f"
      },
      "source": [
        "def listex():\n",
        "  l1=[1,10,\"Madhu\",\"Raju\"]\n",
        "  print(\"length\",len(l1))\n",
        "  l1.append(56)\n",
        "  l2=[5,6,99,1,10,20]\n",
        "  l2.sort()\n",
        "  print(\"Sorting:\",l2)\n",
        "  l2.remove(6)\n",
        "  print(\"Remove the element 6:\",l2)\n",
        "  del l1[1]\n",
        "  print(\"Delete 1st index\",l1)\n",
        "  l1.insert(2,999)\n",
        "  print(\"Insert a value at 2nd Index\",l1)\n",
        "  print(\"count:\",l1.count('Madhu'))\n",
        "  l2=[10,20,30]\n",
        "  print(\"merging l1,l2\",l1+l2)\n",
        "  str=\"Hai\"\n",
        "  print(\"Hello\"+str)\n",
        "  print(\"Multiplying:\",l1*3)\n",
        "  if 10 in l1:\n",
        "    print(\"The value is available\")\n",
        "  else:\n",
        "    print(\"Value not available\")\n",
        "  if 10 not in l1:\n",
        "    print(\"The value is not available\")\n",
        "  else:\n",
        "    print(\"The value is available\")\n",
        "listex()\n",
        "\n",
        "def listex1():\n",
        "    l11=[1,10,\"Madhu\",\"Raju\"]\n",
        "    rl=[]\n",
        "    for j in l11[::-1]:\n",
        "        rl.append(j)\n",
        "    print(rl)\n",
        "    l11.reverse()\n",
        "    print(l11)\n",
        "listex1()\n",
        "def listex2():\n",
        "    l22=[1,1,2,3,4,5,6,7,8,7,7,6]\n",
        "    l=[]\n",
        "    for k in l22:\n",
        "        if k not in l:\n",
        "            l.append(k)\n",
        "    print(l)\n",
        "listex2()\n"
      ],
      "execution_count": null,
      "outputs": [
        {
          "output_type": "stream",
          "text": [
            "length 4\n",
            "Sorting: [1, 5, 6, 10, 20, 99]\n",
            "Remove the element 6: [1, 5, 10, 20, 99]\n",
            "Delete 1st index [1, 'Madhu', 'Raju', 56]\n",
            "Insert a value at 2nd Index [1, 'Madhu', 999, 'Raju', 56]\n",
            "count: 1\n",
            "merging l1,l2 [1, 'Madhu', 999, 'Raju', 56, 10, 20, 30]\n",
            "HelloHai\n",
            "Multiplying: [1, 'Madhu', 999, 'Raju', 56, 1, 'Madhu', 999, 'Raju', 56, 1, 'Madhu', 999, 'Raju', 56]\n",
            "Value not available\n",
            "The value is not available\n",
            "['Raju', 'Madhu', 10, 1]\n",
            "['Raju', 'Madhu', 10, 1]\n",
            "[1, 2, 3, 4, 5, 6, 7, 8]\n"
          ],
          "name": "stdout"
        }
      ]
    },
    {
      "cell_type": "markdown",
      "metadata": {
        "id": "GTrkZJxehQy1"
      },
      "source": [
        "## Tuples basic"
      ]
    },
    {
      "cell_type": "code",
      "metadata": {
        "colab": {
          "base_uri": "https://localhost:8080/"
        },
        "id": "IP0Hs4xzhS3V",
        "outputId": "ec30c180-e73f-4672-a86e-14518ca0d78e"
      },
      "source": [
        "\n",
        "def tuplex():\n",
        "  t1=(10,20,\"Raju\",\"Sinu\")\n",
        "  print(\"Elements in t1:\",t1)\n",
        "  t2=(20,30,40,50)\n",
        "  t3=t1+t2\n",
        "  print(\"Merge:\",t3)\n",
        "  print(\"Slice:\",t1[1:3])\n",
        "  print(\"Slice:\",t2[0:-1])\n",
        "  print(\"Multiply:\",t1*3)\n",
        "tuplex()"
      ],
      "execution_count": null,
      "outputs": [
        {
          "output_type": "stream",
          "text": [
            "Elements in t1: (10, 20, 'Raju', 'Sinu')\n",
            "Merge: (10, 20, 'Raju', 'Sinu', 20, 30, 40, 50)\n",
            "Slice: (20, 'Raju')\n",
            "Slice: (20, 30, 40)\n",
            "Multiply: (10, 20, 'Raju', 'Sinu', 10, 20, 'Raju', 'Sinu', 10, 20, 'Raju', 'Sinu')\n"
          ],
          "name": "stdout"
        }
      ]
    },
    {
      "cell_type": "markdown",
      "metadata": {
        "id": "t2t39-Wgi_vI"
      },
      "source": [
        "# 3.Dictionary Basics"
      ]
    },
    {
      "cell_type": "code",
      "metadata": {
        "colab": {
          "base_uri": "https://localhost:8080/"
        },
        "id": "5LEoz0qpjBQJ",
        "outputId": "4e2b10c0-954d-4ed6-87a3-19f43f9a74fe"
      },
      "source": [
        "def dictex():\n",
        "  d1={1:10,2:20,3:30,4:40,1:100}\n",
        "  print(d1)\n",
        "  print(\"Keys:\",d1.keys())\n",
        "  print(\"Value:\",d1.values())\n",
        "  print(d1[1])\n",
        "\n",
        "dictex()"
      ],
      "execution_count": null,
      "outputs": [
        {
          "output_type": "stream",
          "text": [
            "{1: 100, 2: 20, 3: 30, 4: 40}\n",
            "Keys: dict_keys([1, 2, 3, 4])\n",
            "Value: dict_values([100, 20, 30, 40])\n",
            "100\n"
          ],
          "name": "stdout"
        }
      ]
    },
    {
      "cell_type": "markdown",
      "metadata": {
        "id": "BlYwKA9KjUwm"
      },
      "source": [
        "# String basics"
      ]
    },
    {
      "cell_type": "code",
      "metadata": {
        "colab": {
          "base_uri": "https://localhost:8080/"
        },
        "id": "UTKjTDaXjaKD",
        "outputId": "9db305f3-84ae-415e-d3d1-df2dab89d98b"
      },
      "source": [
        "\n",
        "print(\"len:\",len(\"Hai\"))\n",
        "print(\"Hai,\"+\"How are you\")\n",
        "print(\"Hai\"*4)\n",
        "print('Hai\\\\How')\n",
        "if 's' in \"Sataya\":\n",
        "  print(\"True\")\n",
        "else:\n",
        "  print(\"False\")\n",
        "if 'j' in \"satya\":\n",
        "  print(\"True\")\n",
        "else:\n",
        "  print(\"False\")\n",
        "S=\"satya\"\n",
        "print(S.find('sa'))\n",
        "print(S.find('a'))\n",
        "print(S.find('a',2,4))\n",
        "print(S.find('a',2,3))\n",
        "print(S.index('sa'))\n",
        "print(S.index('t',2,4))\n",
        "s1=\"abcabcab\"\n",
        "s2=s1.replace('a','cd')\n",
        "print(s1,'\\n',s2)\n",
        "print(\"id of s1\",id(s1))\n",
        "print(\"id of s2\",id(s2))\n",
        "s3=\"Hai Bye\"\n",
        "s4=s3.upper()\n",
        "s5=s3.lower()\n",
        "s6=s3.swapcase()\n",
        "s7=s3.title()\n",
        "s8=s3.capitalize()\n",
        "print(s4)\n",
        "print(s5)\n",
        "print(s6)\n",
        "print(s7)\n",
        "print(s8)"
      ],
      "execution_count": null,
      "outputs": [
        {
          "output_type": "stream",
          "text": [
            "len: 3\n",
            "Hai,How are you\n",
            "HaiHaiHaiHai\n",
            "Hai\\How\n",
            "False\n",
            "False\n",
            "0\n",
            "1\n",
            "-1\n",
            "-1\n",
            "0\n",
            "2\n",
            "abcabcab \n",
            " cdbccdbccdb\n",
            "id of s1 140314363344688\n",
            "id of s2 140314363343216\n",
            "HAI BYE\n",
            "hai bye\n",
            "hAI bYE\n",
            "Hai Bye\n",
            "Hai bye\n"
          ],
          "name": "stdout"
        }
      ]
    },
    {
      "cell_type": "markdown",
      "metadata": {
        "id": "CM1TUaZcjlyl"
      },
      "source": [
        "## 5.Sets basics"
      ]
    },
    {
      "cell_type": "code",
      "metadata": {
        "colab": {
          "base_uri": "https://localhost:8080/"
        },
        "id": "VWXvlYakjqHF",
        "outputId": "64c6c3bd-97e6-417c-ab07-f2fdfd82ca7c"
      },
      "source": [
        "\n",
        "s1={10,20,\"Hai\",20}\n",
        "s2={20,30,\"Hai\"}\n",
        "print(\"Union\",s1.union(s2))\n",
        "print(\"Intersection\",s1.intersection(s2))\n",
        "print(\"Difference\",s1.difference(s2))\n",
        "print(\"Difference\",s2.difference(s1))\n",
        "print(\"Symmetric Difference\",s1.symmetric_difference(s2))\n",
        "print(\"Union\",s1|s2)\n",
        "print(\"Inter\",s1&s2)\n",
        "print(\"Diff\",s1-s2)\n",
        "print(\"Symmetric Diff\",s1^s2)\n",
        "s3={10,20,40}\n",
        "s4=s3\n",
        "s5=s3.copy()\n",
        "s3.clear()\n",
        "s4.add(100)\n",
        "s5.add(200)\n",
        "print(\"clear:\",s3)\n",
        "print(100 in s4)\n",
        "print(100 not in s4)\n",
        "print(200 in s5)\n",
        "print(200 not in s5)\n",
        "print(200 in s4)\n",
        "print(200 not in s4)\n",
        "print(100 in s5)\n",
        "print(100 not in s5)"
      ],
      "execution_count": null,
      "outputs": [
        {
          "output_type": "stream",
          "text": [
            "Union {'Hai', 20, 10, 30}\n",
            "Intersection {'Hai', 20}\n",
            "Difference {10}\n",
            "Difference {30}\n",
            "Symmetric Difference {10, 30}\n",
            "Union {'Hai', 20, 10, 30}\n",
            "Inter {'Hai', 20}\n",
            "Diff {10}\n",
            "Symmetric Diff {10, 30}\n",
            "clear: {100}\n",
            "True\n",
            "False\n",
            "True\n",
            "False\n",
            "False\n",
            "True\n",
            "False\n",
            "True\n"
          ],
          "name": "stdout"
        }
      ]
    }
  ]
}